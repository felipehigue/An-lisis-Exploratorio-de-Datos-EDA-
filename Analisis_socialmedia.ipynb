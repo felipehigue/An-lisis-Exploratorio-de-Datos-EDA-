{
  "nbformat": 4,
  "nbformat_minor": 0,
  "metadata": {
    "colab": {
      "provenance": []
    },
    "kernelspec": {
      "name": "python3",
      "display_name": "Python 3"
    },
    "language_info": {
      "name": "python"
    }
  },
  "cells": [
    {
      "cell_type": "markdown",
      "source": [
        "## Análisis Exploratorio de Datos (EDA) y Visualizaciones\n",
        "\n",
        "Esta analisis tiene como objetivo realizar comparaciones y relaciones basicas entre las diferentes variables del dataset **socialmedia** con el fin de ayudar a comprender mejor los temas de visualizacion de su contenido\n",
        "\n"
      ],
      "metadata": {
        "id": "N9M0vHt9exOI"
      }
    },
    {
      "cell_type": "code",
      "source": [
        "import pandas as pd\n",
        "datos=pd.read_excel('socialmedia.xlsx')\n",
        "df=pd.DataFrame(datos)\n",
        "df\n"
      ],
      "metadata": {
        "colab": {
          "base_uri": "https://localhost:8080/",
          "height": 880
        },
        "id": "CK5KpjVhW7lc",
        "outputId": "dc4b4ef1-d1d6-4b11-e590-f6b8795a67ea"
      },
      "execution_count": 1,
      "outputs": [
        {
          "output_type": "execute_result",
          "data": {
            "text/plain": [
              "           Usuario   Fecha Publicación                                 Texto  \\\n",
              "0        Usuario_1 2024-03-15 10:30:00          ¡Hola a todos! #FelizViernes   \n",
              "1            User2 2024-03-15 11:15:22                 Increíble día de sol!   \n",
              "2     Otro_Usuario 2024-03-16 14:00:10                Coffee time ☕ #weekend   \n",
              "3           User 4 2024-03-16 18:45:59  Disfrutando del sábado por la tarde.   \n",
              "4         usuario5 2024-03-17 09:20:30                   Good morning world!   \n",
              "5         TheUser6 2024-03-17 12:55:45                   A pasear al perro 🐕   \n",
              "6           User77 2024-03-18 16:10:05          Learning Python #datascience   \n",
              "7        Usuario_8 2024-03-18 20:35:18             Viendo mi serie favorita.   \n",
              "8            User9 2024-03-19 08:00:00                         Happy Monday!   \n",
              "9        Usuario10 2024-03-19 13:20:55                  Almuerzo delicioso 😋   \n",
              "10             NaN 2024-03-20 17:40:02             Fin de semana a la vista!   \n",
              "11          User12 2024-03-20 21:05:30                   Coding late night 💻   \n",
              "12      usuario_13 2024-03-21 09:50:15                Preparando el viaje...   \n",
              "13   TheRealUser14 2024-03-21 14:30:48                        Just woke up 😴   \n",
              "14  OtroUsuarioMas 2024-03-22 18:00:20                   Viernes otra vez! 🎉   \n",
              "15         User_16 2024-03-22 22:25:00          Enjoying the weekend vibes 😎   \n",
              "\n",
              "    Likes  Retweets   Idioma   Fuente  \n",
              "0     120      30.0       es  Android  \n",
              "1      25       2.0  espanol      Web  \n",
              "2      85      15.0       en   iPhone  \n",
              "3      45       8.0       es      NaN  \n",
              "4     180       NaN   inglés  Android  \n",
              "5      60      12.0       es      NaN  \n",
              "6     210      45.0       en      Web  \n",
              "7      30       5.0       es    Movil  \n",
              "8      95      20.0   inglés      NaN  \n",
              "9     155      35.0       es  Android  \n",
              "10     70      10.0       es      Web  \n",
              "11    110      28.0       en      NaN  \n",
              "12    190      40.0       es   iPhone  \n",
              "13     55       7.0       en   Mobile  \n",
              "14    130      32.0       es      NaN  \n",
              "15     75       NaN   inglés  Android  "
            ],
            "text/html": [
              "\n",
              "  <div id=\"df-027939e5-3c35-43ea-a134-80e0832700f6\" class=\"colab-df-container\">\n",
              "    <div>\n",
              "<style scoped>\n",
              "    .dataframe tbody tr th:only-of-type {\n",
              "        vertical-align: middle;\n",
              "    }\n",
              "\n",
              "    .dataframe tbody tr th {\n",
              "        vertical-align: top;\n",
              "    }\n",
              "\n",
              "    .dataframe thead th {\n",
              "        text-align: right;\n",
              "    }\n",
              "</style>\n",
              "<table border=\"1\" class=\"dataframe\">\n",
              "  <thead>\n",
              "    <tr style=\"text-align: right;\">\n",
              "      <th></th>\n",
              "      <th>Usuario</th>\n",
              "      <th>Fecha Publicación</th>\n",
              "      <th>Texto</th>\n",
              "      <th>Likes</th>\n",
              "      <th>Retweets</th>\n",
              "      <th>Idioma</th>\n",
              "      <th>Fuente</th>\n",
              "    </tr>\n",
              "  </thead>\n",
              "  <tbody>\n",
              "    <tr>\n",
              "      <th>0</th>\n",
              "      <td>Usuario_1</td>\n",
              "      <td>2024-03-15 10:30:00</td>\n",
              "      <td>¡Hola a todos! #FelizViernes</td>\n",
              "      <td>120</td>\n",
              "      <td>30.0</td>\n",
              "      <td>es</td>\n",
              "      <td>Android</td>\n",
              "    </tr>\n",
              "    <tr>\n",
              "      <th>1</th>\n",
              "      <td>User2</td>\n",
              "      <td>2024-03-15 11:15:22</td>\n",
              "      <td>Increíble día de sol!</td>\n",
              "      <td>25</td>\n",
              "      <td>2.0</td>\n",
              "      <td>espanol</td>\n",
              "      <td>Web</td>\n",
              "    </tr>\n",
              "    <tr>\n",
              "      <th>2</th>\n",
              "      <td>Otro_Usuario</td>\n",
              "      <td>2024-03-16 14:00:10</td>\n",
              "      <td>Coffee time ☕ #weekend</td>\n",
              "      <td>85</td>\n",
              "      <td>15.0</td>\n",
              "      <td>en</td>\n",
              "      <td>iPhone</td>\n",
              "    </tr>\n",
              "    <tr>\n",
              "      <th>3</th>\n",
              "      <td>User 4</td>\n",
              "      <td>2024-03-16 18:45:59</td>\n",
              "      <td>Disfrutando del sábado por la tarde.</td>\n",
              "      <td>45</td>\n",
              "      <td>8.0</td>\n",
              "      <td>es</td>\n",
              "      <td>NaN</td>\n",
              "    </tr>\n",
              "    <tr>\n",
              "      <th>4</th>\n",
              "      <td>usuario5</td>\n",
              "      <td>2024-03-17 09:20:30</td>\n",
              "      <td>Good morning world!</td>\n",
              "      <td>180</td>\n",
              "      <td>NaN</td>\n",
              "      <td>inglés</td>\n",
              "      <td>Android</td>\n",
              "    </tr>\n",
              "    <tr>\n",
              "      <th>5</th>\n",
              "      <td>TheUser6</td>\n",
              "      <td>2024-03-17 12:55:45</td>\n",
              "      <td>A pasear al perro 🐕</td>\n",
              "      <td>60</td>\n",
              "      <td>12.0</td>\n",
              "      <td>es</td>\n",
              "      <td>NaN</td>\n",
              "    </tr>\n",
              "    <tr>\n",
              "      <th>6</th>\n",
              "      <td>User77</td>\n",
              "      <td>2024-03-18 16:10:05</td>\n",
              "      <td>Learning Python #datascience</td>\n",
              "      <td>210</td>\n",
              "      <td>45.0</td>\n",
              "      <td>en</td>\n",
              "      <td>Web</td>\n",
              "    </tr>\n",
              "    <tr>\n",
              "      <th>7</th>\n",
              "      <td>Usuario_8</td>\n",
              "      <td>2024-03-18 20:35:18</td>\n",
              "      <td>Viendo mi serie favorita.</td>\n",
              "      <td>30</td>\n",
              "      <td>5.0</td>\n",
              "      <td>es</td>\n",
              "      <td>Movil</td>\n",
              "    </tr>\n",
              "    <tr>\n",
              "      <th>8</th>\n",
              "      <td>User9</td>\n",
              "      <td>2024-03-19 08:00:00</td>\n",
              "      <td>Happy Monday!</td>\n",
              "      <td>95</td>\n",
              "      <td>20.0</td>\n",
              "      <td>inglés</td>\n",
              "      <td>NaN</td>\n",
              "    </tr>\n",
              "    <tr>\n",
              "      <th>9</th>\n",
              "      <td>Usuario10</td>\n",
              "      <td>2024-03-19 13:20:55</td>\n",
              "      <td>Almuerzo delicioso 😋</td>\n",
              "      <td>155</td>\n",
              "      <td>35.0</td>\n",
              "      <td>es</td>\n",
              "      <td>Android</td>\n",
              "    </tr>\n",
              "    <tr>\n",
              "      <th>10</th>\n",
              "      <td>NaN</td>\n",
              "      <td>2024-03-20 17:40:02</td>\n",
              "      <td>Fin de semana a la vista!</td>\n",
              "      <td>70</td>\n",
              "      <td>10.0</td>\n",
              "      <td>es</td>\n",
              "      <td>Web</td>\n",
              "    </tr>\n",
              "    <tr>\n",
              "      <th>11</th>\n",
              "      <td>User12</td>\n",
              "      <td>2024-03-20 21:05:30</td>\n",
              "      <td>Coding late night 💻</td>\n",
              "      <td>110</td>\n",
              "      <td>28.0</td>\n",
              "      <td>en</td>\n",
              "      <td>NaN</td>\n",
              "    </tr>\n",
              "    <tr>\n",
              "      <th>12</th>\n",
              "      <td>usuario_13</td>\n",
              "      <td>2024-03-21 09:50:15</td>\n",
              "      <td>Preparando el viaje...</td>\n",
              "      <td>190</td>\n",
              "      <td>40.0</td>\n",
              "      <td>es</td>\n",
              "      <td>iPhone</td>\n",
              "    </tr>\n",
              "    <tr>\n",
              "      <th>13</th>\n",
              "      <td>TheRealUser14</td>\n",
              "      <td>2024-03-21 14:30:48</td>\n",
              "      <td>Just woke up 😴</td>\n",
              "      <td>55</td>\n",
              "      <td>7.0</td>\n",
              "      <td>en</td>\n",
              "      <td>Mobile</td>\n",
              "    </tr>\n",
              "    <tr>\n",
              "      <th>14</th>\n",
              "      <td>OtroUsuarioMas</td>\n",
              "      <td>2024-03-22 18:00:20</td>\n",
              "      <td>Viernes otra vez! 🎉</td>\n",
              "      <td>130</td>\n",
              "      <td>32.0</td>\n",
              "      <td>es</td>\n",
              "      <td>NaN</td>\n",
              "    </tr>\n",
              "    <tr>\n",
              "      <th>15</th>\n",
              "      <td>User_16</td>\n",
              "      <td>2024-03-22 22:25:00</td>\n",
              "      <td>Enjoying the weekend vibes 😎</td>\n",
              "      <td>75</td>\n",
              "      <td>NaN</td>\n",
              "      <td>inglés</td>\n",
              "      <td>Android</td>\n",
              "    </tr>\n",
              "  </tbody>\n",
              "</table>\n",
              "</div>\n",
              "    <div class=\"colab-df-buttons\">\n",
              "\n",
              "  <div class=\"colab-df-container\">\n",
              "    <button class=\"colab-df-convert\" onclick=\"convertToInteractive('df-027939e5-3c35-43ea-a134-80e0832700f6')\"\n",
              "            title=\"Convert this dataframe to an interactive table.\"\n",
              "            style=\"display:none;\">\n",
              "\n",
              "  <svg xmlns=\"http://www.w3.org/2000/svg\" height=\"24px\" viewBox=\"0 -960 960 960\">\n",
              "    <path d=\"M120-120v-720h720v720H120Zm60-500h600v-160H180v160Zm220 220h160v-160H400v160Zm0 220h160v-160H400v160ZM180-400h160v-160H180v160Zm440 0h160v-160H620v160ZM180-180h160v-160H180v160Zm440 0h160v-160H620v160Z\"/>\n",
              "  </svg>\n",
              "    </button>\n",
              "\n",
              "  <style>\n",
              "    .colab-df-container {\n",
              "      display:flex;\n",
              "      gap: 12px;\n",
              "    }\n",
              "\n",
              "    .colab-df-convert {\n",
              "      background-color: #E8F0FE;\n",
              "      border: none;\n",
              "      border-radius: 50%;\n",
              "      cursor: pointer;\n",
              "      display: none;\n",
              "      fill: #1967D2;\n",
              "      height: 32px;\n",
              "      padding: 0 0 0 0;\n",
              "      width: 32px;\n",
              "    }\n",
              "\n",
              "    .colab-df-convert:hover {\n",
              "      background-color: #E2EBFA;\n",
              "      box-shadow: 0px 1px 2px rgba(60, 64, 67, 0.3), 0px 1px 3px 1px rgba(60, 64, 67, 0.15);\n",
              "      fill: #174EA6;\n",
              "    }\n",
              "\n",
              "    .colab-df-buttons div {\n",
              "      margin-bottom: 4px;\n",
              "    }\n",
              "\n",
              "    [theme=dark] .colab-df-convert {\n",
              "      background-color: #3B4455;\n",
              "      fill: #D2E3FC;\n",
              "    }\n",
              "\n",
              "    [theme=dark] .colab-df-convert:hover {\n",
              "      background-color: #434B5C;\n",
              "      box-shadow: 0px 1px 3px 1px rgba(0, 0, 0, 0.15);\n",
              "      filter: drop-shadow(0px 1px 2px rgba(0, 0, 0, 0.3));\n",
              "      fill: #FFFFFF;\n",
              "    }\n",
              "  </style>\n",
              "\n",
              "    <script>\n",
              "      const buttonEl =\n",
              "        document.querySelector('#df-027939e5-3c35-43ea-a134-80e0832700f6 button.colab-df-convert');\n",
              "      buttonEl.style.display =\n",
              "        google.colab.kernel.accessAllowed ? 'block' : 'none';\n",
              "\n",
              "      async function convertToInteractive(key) {\n",
              "        const element = document.querySelector('#df-027939e5-3c35-43ea-a134-80e0832700f6');\n",
              "        const dataTable =\n",
              "          await google.colab.kernel.invokeFunction('convertToInteractive',\n",
              "                                                    [key], {});\n",
              "        if (!dataTable) return;\n",
              "\n",
              "        const docLinkHtml = 'Like what you see? Visit the ' +\n",
              "          '<a target=\"_blank\" href=https://colab.research.google.com/notebooks/data_table.ipynb>data table notebook</a>'\n",
              "          + ' to learn more about interactive tables.';\n",
              "        element.innerHTML = '';\n",
              "        dataTable['output_type'] = 'display_data';\n",
              "        await google.colab.output.renderOutput(dataTable, element);\n",
              "        const docLink = document.createElement('div');\n",
              "        docLink.innerHTML = docLinkHtml;\n",
              "        element.appendChild(docLink);\n",
              "      }\n",
              "    </script>\n",
              "  </div>\n",
              "\n",
              "\n",
              "<div id=\"df-300bd4be-96b6-4778-8f9c-def91d536f3c\">\n",
              "  <button class=\"colab-df-quickchart\" onclick=\"quickchart('df-300bd4be-96b6-4778-8f9c-def91d536f3c')\"\n",
              "            title=\"Suggest charts\"\n",
              "            style=\"display:none;\">\n",
              "\n",
              "<svg xmlns=\"http://www.w3.org/2000/svg\" height=\"24px\"viewBox=\"0 0 24 24\"\n",
              "     width=\"24px\">\n",
              "    <g>\n",
              "        <path d=\"M19 3H5c-1.1 0-2 .9-2 2v14c0 1.1.9 2 2 2h14c1.1 0 2-.9 2-2V5c0-1.1-.9-2-2-2zM9 17H7v-7h2v7zm4 0h-2V7h2v10zm4 0h-2v-4h2v4z\"/>\n",
              "    </g>\n",
              "</svg>\n",
              "  </button>\n",
              "\n",
              "<style>\n",
              "  .colab-df-quickchart {\n",
              "      --bg-color: #E8F0FE;\n",
              "      --fill-color: #1967D2;\n",
              "      --hover-bg-color: #E2EBFA;\n",
              "      --hover-fill-color: #174EA6;\n",
              "      --disabled-fill-color: #AAA;\n",
              "      --disabled-bg-color: #DDD;\n",
              "  }\n",
              "\n",
              "  [theme=dark] .colab-df-quickchart {\n",
              "      --bg-color: #3B4455;\n",
              "      --fill-color: #D2E3FC;\n",
              "      --hover-bg-color: #434B5C;\n",
              "      --hover-fill-color: #FFFFFF;\n",
              "      --disabled-bg-color: #3B4455;\n",
              "      --disabled-fill-color: #666;\n",
              "  }\n",
              "\n",
              "  .colab-df-quickchart {\n",
              "    background-color: var(--bg-color);\n",
              "    border: none;\n",
              "    border-radius: 50%;\n",
              "    cursor: pointer;\n",
              "    display: none;\n",
              "    fill: var(--fill-color);\n",
              "    height: 32px;\n",
              "    padding: 0;\n",
              "    width: 32px;\n",
              "  }\n",
              "\n",
              "  .colab-df-quickchart:hover {\n",
              "    background-color: var(--hover-bg-color);\n",
              "    box-shadow: 0 1px 2px rgba(60, 64, 67, 0.3), 0 1px 3px 1px rgba(60, 64, 67, 0.15);\n",
              "    fill: var(--button-hover-fill-color);\n",
              "  }\n",
              "\n",
              "  .colab-df-quickchart-complete:disabled,\n",
              "  .colab-df-quickchart-complete:disabled:hover {\n",
              "    background-color: var(--disabled-bg-color);\n",
              "    fill: var(--disabled-fill-color);\n",
              "    box-shadow: none;\n",
              "  }\n",
              "\n",
              "  .colab-df-spinner {\n",
              "    border: 2px solid var(--fill-color);\n",
              "    border-color: transparent;\n",
              "    border-bottom-color: var(--fill-color);\n",
              "    animation:\n",
              "      spin 1s steps(1) infinite;\n",
              "  }\n",
              "\n",
              "  @keyframes spin {\n",
              "    0% {\n",
              "      border-color: transparent;\n",
              "      border-bottom-color: var(--fill-color);\n",
              "      border-left-color: var(--fill-color);\n",
              "    }\n",
              "    20% {\n",
              "      border-color: transparent;\n",
              "      border-left-color: var(--fill-color);\n",
              "      border-top-color: var(--fill-color);\n",
              "    }\n",
              "    30% {\n",
              "      border-color: transparent;\n",
              "      border-left-color: var(--fill-color);\n",
              "      border-top-color: var(--fill-color);\n",
              "      border-right-color: var(--fill-color);\n",
              "    }\n",
              "    40% {\n",
              "      border-color: transparent;\n",
              "      border-right-color: var(--fill-color);\n",
              "      border-top-color: var(--fill-color);\n",
              "    }\n",
              "    60% {\n",
              "      border-color: transparent;\n",
              "      border-right-color: var(--fill-color);\n",
              "    }\n",
              "    80% {\n",
              "      border-color: transparent;\n",
              "      border-right-color: var(--fill-color);\n",
              "      border-bottom-color: var(--fill-color);\n",
              "    }\n",
              "    90% {\n",
              "      border-color: transparent;\n",
              "      border-bottom-color: var(--fill-color);\n",
              "    }\n",
              "  }\n",
              "</style>\n",
              "\n",
              "  <script>\n",
              "    async function quickchart(key) {\n",
              "      const quickchartButtonEl =\n",
              "        document.querySelector('#' + key + ' button');\n",
              "      quickchartButtonEl.disabled = true;  // To prevent multiple clicks.\n",
              "      quickchartButtonEl.classList.add('colab-df-spinner');\n",
              "      try {\n",
              "        const charts = await google.colab.kernel.invokeFunction(\n",
              "            'suggestCharts', [key], {});\n",
              "      } catch (error) {\n",
              "        console.error('Error during call to suggestCharts:', error);\n",
              "      }\n",
              "      quickchartButtonEl.classList.remove('colab-df-spinner');\n",
              "      quickchartButtonEl.classList.add('colab-df-quickchart-complete');\n",
              "    }\n",
              "    (() => {\n",
              "      let quickchartButtonEl =\n",
              "        document.querySelector('#df-300bd4be-96b6-4778-8f9c-def91d536f3c button');\n",
              "      quickchartButtonEl.style.display =\n",
              "        google.colab.kernel.accessAllowed ? 'block' : 'none';\n",
              "    })();\n",
              "  </script>\n",
              "</div>\n",
              "\n",
              "  <div id=\"id_586c96bd-3d46-4e54-8834-f06778f36a7e\">\n",
              "    <style>\n",
              "      .colab-df-generate {\n",
              "        background-color: #E8F0FE;\n",
              "        border: none;\n",
              "        border-radius: 50%;\n",
              "        cursor: pointer;\n",
              "        display: none;\n",
              "        fill: #1967D2;\n",
              "        height: 32px;\n",
              "        padding: 0 0 0 0;\n",
              "        width: 32px;\n",
              "      }\n",
              "\n",
              "      .colab-df-generate:hover {\n",
              "        background-color: #E2EBFA;\n",
              "        box-shadow: 0px 1px 2px rgba(60, 64, 67, 0.3), 0px 1px 3px 1px rgba(60, 64, 67, 0.15);\n",
              "        fill: #174EA6;\n",
              "      }\n",
              "\n",
              "      [theme=dark] .colab-df-generate {\n",
              "        background-color: #3B4455;\n",
              "        fill: #D2E3FC;\n",
              "      }\n",
              "\n",
              "      [theme=dark] .colab-df-generate:hover {\n",
              "        background-color: #434B5C;\n",
              "        box-shadow: 0px 1px 3px 1px rgba(0, 0, 0, 0.15);\n",
              "        filter: drop-shadow(0px 1px 2px rgba(0, 0, 0, 0.3));\n",
              "        fill: #FFFFFF;\n",
              "      }\n",
              "    </style>\n",
              "    <button class=\"colab-df-generate\" onclick=\"generateWithVariable('df')\"\n",
              "            title=\"Generate code using this dataframe.\"\n",
              "            style=\"display:none;\">\n",
              "\n",
              "  <svg xmlns=\"http://www.w3.org/2000/svg\" height=\"24px\"viewBox=\"0 0 24 24\"\n",
              "       width=\"24px\">\n",
              "    <path d=\"M7,19H8.4L18.45,9,17,7.55,7,17.6ZM5,21V16.75L18.45,3.32a2,2,0,0,1,2.83,0l1.4,1.43a1.91,1.91,0,0,1,.58,1.4,1.91,1.91,0,0,1-.58,1.4L9.25,21ZM18.45,9,17,7.55Zm-12,3A5.31,5.31,0,0,0,4.9,8.1,5.31,5.31,0,0,0,1,6.5,5.31,5.31,0,0,0,4.9,4.9,5.31,5.31,0,0,0,6.5,1,5.31,5.31,0,0,0,8.1,4.9,5.31,5.31,0,0,0,12,6.5,5.46,5.46,0,0,0,6.5,12Z\"/>\n",
              "  </svg>\n",
              "    </button>\n",
              "    <script>\n",
              "      (() => {\n",
              "      const buttonEl =\n",
              "        document.querySelector('#id_586c96bd-3d46-4e54-8834-f06778f36a7e button.colab-df-generate');\n",
              "      buttonEl.style.display =\n",
              "        google.colab.kernel.accessAllowed ? 'block' : 'none';\n",
              "\n",
              "      buttonEl.onclick = () => {\n",
              "        google.colab.notebook.generateWithVariable('df');\n",
              "      }\n",
              "      })();\n",
              "    </script>\n",
              "  </div>\n",
              "\n",
              "    </div>\n",
              "  </div>\n"
            ],
            "application/vnd.google.colaboratory.intrinsic+json": {
              "type": "dataframe",
              "variable_name": "df",
              "summary": "{\n  \"name\": \"df\",\n  \"rows\": 16,\n  \"fields\": [\n    {\n      \"column\": \"Usuario\",\n      \"properties\": {\n        \"dtype\": \"string\",\n        \"num_unique_values\": 15,\n        \"samples\": [\n          \"Usuario10\",\n          \"usuario_13\",\n          \"Usuario_1\"\n        ],\n        \"semantic_type\": \"\",\n        \"description\": \"\"\n      }\n    },\n    {\n      \"column\": \"Fecha Publicaci\\u00f3n\",\n      \"properties\": {\n        \"dtype\": \"date\",\n        \"min\": \"2024-03-15 10:30:00\",\n        \"max\": \"2024-03-22 22:25:00\",\n        \"num_unique_values\": 16,\n        \"samples\": [\n          \"2024-03-15 10:30:00\",\n          \"2024-03-15 11:15:22\",\n          \"2024-03-17 12:55:45\"\n        ],\n        \"semantic_type\": \"\",\n        \"description\": \"\"\n      }\n    },\n    {\n      \"column\": \"Texto\",\n      \"properties\": {\n        \"dtype\": \"string\",\n        \"num_unique_values\": 16,\n        \"samples\": [\n          \"\\u00a1Hola a todos! #FelizViernes\",\n          \"Incre\\u00edble d\\u00eda de sol!\",\n          \"A pasear al perro \\ud83d\\udc15\"\n        ],\n        \"semantic_type\": \"\",\n        \"description\": \"\"\n      }\n    },\n    {\n      \"column\": \"Likes\",\n      \"properties\": {\n        \"dtype\": \"number\",\n        \"std\": 57,\n        \"min\": 25,\n        \"max\": 210,\n        \"num_unique_values\": 16,\n        \"samples\": [\n          120,\n          25,\n          60\n        ],\n        \"semantic_type\": \"\",\n        \"description\": \"\"\n      }\n    },\n    {\n      \"column\": \"Retweets\",\n      \"properties\": {\n        \"dtype\": \"number\",\n        \"std\": 14.150874628349046,\n        \"min\": 2.0,\n        \"max\": 45.0,\n        \"num_unique_values\": 14,\n        \"samples\": [\n          10.0,\n          40.0,\n          30.0\n        ],\n        \"semantic_type\": \"\",\n        \"description\": \"\"\n      }\n    },\n    {\n      \"column\": \"Idioma\",\n      \"properties\": {\n        \"dtype\": \"category\",\n        \"num_unique_values\": 4,\n        \"samples\": [\n          \"espanol\",\n          \"ingl\\u00e9s\",\n          \"es\"\n        ],\n        \"semantic_type\": \"\",\n        \"description\": \"\"\n      }\n    },\n    {\n      \"column\": \"Fuente\",\n      \"properties\": {\n        \"dtype\": \"category\",\n        \"num_unique_values\": 5,\n        \"samples\": [\n          \"Web\",\n          \"Mobile\",\n          \"iPhone\"\n        ],\n        \"semantic_type\": \"\",\n        \"description\": \"\"\n      }\n    }\n  ]\n}"
            }
          },
          "metadata": {},
          "execution_count": 1
        }
      ]
    },
    {
      "cell_type": "code",
      "source": [
        "df.info()"
      ],
      "metadata": {
        "colab": {
          "base_uri": "https://localhost:8080/"
        },
        "id": "bfqiXtRgLLci",
        "outputId": "795b963b-8a6d-4dcd-f800-c0df049d444a"
      },
      "execution_count": 27,
      "outputs": [
        {
          "output_type": "stream",
          "name": "stdout",
          "text": [
            "<class 'pandas.core.frame.DataFrame'>\n",
            "RangeIndex: 16 entries, 0 to 15\n",
            "Data columns (total 7 columns):\n",
            " #   Column             Non-Null Count  Dtype         \n",
            "---  ------             --------------  -----         \n",
            " 0   Usuario            15 non-null     object        \n",
            " 1   Fecha Publicación  16 non-null     datetime64[ns]\n",
            " 2   Texto              16 non-null     object        \n",
            " 3   Likes              16 non-null     int64         \n",
            " 4   Retweets           14 non-null     float64       \n",
            " 5   Idioma             16 non-null     object        \n",
            " 6   Fuente             11 non-null     object        \n",
            "dtypes: datetime64[ns](1), float64(1), int64(1), object(4)\n",
            "memory usage: 1.0+ KB\n"
          ]
        }
      ]
    },
    {
      "cell_type": "code",
      "source": [
        "df['Usuario']=df['Usuario'].str.lower()"
      ],
      "metadata": {
        "id": "NRs6kvZiLVfQ"
      },
      "execution_count": 2,
      "outputs": []
    },
    {
      "cell_type": "code",
      "source": [
        "df['usuario']=df['Usuario'].str.strip()"
      ],
      "metadata": {
        "id": "-kowG9DfPkt9"
      },
      "execution_count": 3,
      "outputs": []
    },
    {
      "cell_type": "code",
      "source": [
        "df['Usuario']=df['usuario'].str.replace(' ','_')"
      ],
      "metadata": {
        "id": "8nCcdPTJQobj"
      },
      "execution_count": 4,
      "outputs": []
    },
    {
      "cell_type": "code",
      "source": [
        "df['Usuario'].unique()"
      ],
      "metadata": {
        "colab": {
          "base_uri": "https://localhost:8080/"
        },
        "id": "iUNbjI8xRGGt",
        "outputId": "f64d3367-4023-41db-fe88-e3a0d4d6dda9"
      },
      "execution_count": 5,
      "outputs": [
        {
          "output_type": "execute_result",
          "data": {
            "text/plain": [
              "array(['usuario_1', 'user2', 'otro_usuario', 'user_4', 'usuario5',\n",
              "       'theuser6', 'user77', 'usuario_8', 'user9', 'usuario10', nan,\n",
              "       'user12', 'usuario_13', 'therealuser14', 'otrousuariomas',\n",
              "       'user_16'], dtype=object)"
            ]
          },
          "metadata": {},
          "execution_count": 5
        }
      ]
    },
    {
      "cell_type": "code",
      "source": [
        "df['Usuario']=df['Usuario'].fillna('usuario_desconocido')"
      ],
      "metadata": {
        "id": "gTgubrKaSNI_"
      },
      "execution_count": 6,
      "outputs": []
    },
    {
      "cell_type": "code",
      "source": [
        "df['Usuario'].unique()"
      ],
      "metadata": {
        "colab": {
          "base_uri": "https://localhost:8080/"
        },
        "id": "b_6Wzw66SkqF",
        "outputId": "32c4d5f4-7205-4b46-da04-e72d2a9aee13"
      },
      "execution_count": 7,
      "outputs": [
        {
          "output_type": "execute_result",
          "data": {
            "text/plain": [
              "array(['usuario_1', 'user2', 'otro_usuario', 'user_4', 'usuario5',\n",
              "       'theuser6', 'user77', 'usuario_8', 'user9', 'usuario10',\n",
              "       'usuario_desconocido', 'user12', 'usuario_13', 'therealuser14',\n",
              "       'otrousuariomas', 'user_16'], dtype=object)"
            ]
          },
          "metadata": {},
          "execution_count": 7
        }
      ]
    },
    {
      "cell_type": "code",
      "source": [
        "df['Fecha Publicación']=pd.to_datetime(df['Fecha Publicación'],format='%d/%m/%Y',errors='coerce')"
      ],
      "metadata": {
        "id": "vE7rUYVySwOF"
      },
      "execution_count": 8,
      "outputs": []
    },
    {
      "cell_type": "code",
      "source": [
        "df['Fecha Publicación'].head()"
      ],
      "metadata": {
        "colab": {
          "base_uri": "https://localhost:8080/",
          "height": 241
        },
        "id": "tQSI8jxzTlN7",
        "outputId": "16612b5a-cf5b-43f1-a285-5db3cbccd0aa"
      },
      "execution_count": 48,
      "outputs": [
        {
          "output_type": "execute_result",
          "data": {
            "text/plain": [
              "0   2024-03-15 10:30:00\n",
              "1   2024-03-15 11:15:22\n",
              "2   2024-03-16 14:00:10\n",
              "3   2024-03-16 18:45:59\n",
              "4   2024-03-17 09:20:30\n",
              "Name: Fecha Publicación, dtype: datetime64[ns]"
            ],
            "text/html": [
              "<div>\n",
              "<style scoped>\n",
              "    .dataframe tbody tr th:only-of-type {\n",
              "        vertical-align: middle;\n",
              "    }\n",
              "\n",
              "    .dataframe tbody tr th {\n",
              "        vertical-align: top;\n",
              "    }\n",
              "\n",
              "    .dataframe thead th {\n",
              "        text-align: right;\n",
              "    }\n",
              "</style>\n",
              "<table border=\"1\" class=\"dataframe\">\n",
              "  <thead>\n",
              "    <tr style=\"text-align: right;\">\n",
              "      <th></th>\n",
              "      <th>Fecha Publicación</th>\n",
              "    </tr>\n",
              "  </thead>\n",
              "  <tbody>\n",
              "    <tr>\n",
              "      <th>0</th>\n",
              "      <td>2024-03-15 10:30:00</td>\n",
              "    </tr>\n",
              "    <tr>\n",
              "      <th>1</th>\n",
              "      <td>2024-03-15 11:15:22</td>\n",
              "    </tr>\n",
              "    <tr>\n",
              "      <th>2</th>\n",
              "      <td>2024-03-16 14:00:10</td>\n",
              "    </tr>\n",
              "    <tr>\n",
              "      <th>3</th>\n",
              "      <td>2024-03-16 18:45:59</td>\n",
              "    </tr>\n",
              "    <tr>\n",
              "      <th>4</th>\n",
              "      <td>2024-03-17 09:20:30</td>\n",
              "    </tr>\n",
              "  </tbody>\n",
              "</table>\n",
              "</div><br><label><b>dtype:</b> datetime64[ns]</label>"
            ]
          },
          "metadata": {},
          "execution_count": 48
        }
      ]
    },
    {
      "cell_type": "code",
      "source": [
        "df['Fecha Publicación'].dtype"
      ],
      "metadata": {
        "colab": {
          "base_uri": "https://localhost:8080/"
        },
        "id": "r0jxJXm2TvU5",
        "outputId": "a0d33a6c-9a41-4190-e8a3-9670f6c1e7b6"
      },
      "execution_count": 42,
      "outputs": [
        {
          "output_type": "execute_result",
          "data": {
            "text/plain": [
              "dtype('<M8[ns]')"
            ]
          },
          "metadata": {},
          "execution_count": 42
        }
      ]
    },
    {
      "cell_type": "code",
      "source": [
        "df['Fecha Publicación'].isnull().sum()"
      ],
      "metadata": {
        "colab": {
          "base_uri": "https://localhost:8080/"
        },
        "id": "Cx8K-lxkUIOU",
        "outputId": "4990055e-4e5a-4ac1-8251-9a31cb4f5095"
      },
      "execution_count": 9,
      "outputs": [
        {
          "output_type": "execute_result",
          "data": {
            "text/plain": [
              "np.int64(0)"
            ]
          },
          "metadata": {},
          "execution_count": 9
        }
      ]
    },
    {
      "cell_type": "code",
      "source": [
        "df['Likes'].isnull()"
      ],
      "metadata": {
        "colab": {
          "base_uri": "https://localhost:8080/",
          "height": 585
        },
        "id": "by3I_E2mUvBo",
        "outputId": "a9bd8434-5924-49d1-d64f-c8dce140321d"
      },
      "execution_count": 44,
      "outputs": [
        {
          "output_type": "execute_result",
          "data": {
            "text/plain": [
              "0     False\n",
              "1     False\n",
              "2     False\n",
              "3     False\n",
              "4     False\n",
              "5     False\n",
              "6     False\n",
              "7     False\n",
              "8     False\n",
              "9     False\n",
              "10    False\n",
              "11    False\n",
              "12    False\n",
              "13    False\n",
              "14    False\n",
              "15    False\n",
              "Name: Likes, dtype: bool"
            ],
            "text/html": [
              "<div>\n",
              "<style scoped>\n",
              "    .dataframe tbody tr th:only-of-type {\n",
              "        vertical-align: middle;\n",
              "    }\n",
              "\n",
              "    .dataframe tbody tr th {\n",
              "        vertical-align: top;\n",
              "    }\n",
              "\n",
              "    .dataframe thead th {\n",
              "        text-align: right;\n",
              "    }\n",
              "</style>\n",
              "<table border=\"1\" class=\"dataframe\">\n",
              "  <thead>\n",
              "    <tr style=\"text-align: right;\">\n",
              "      <th></th>\n",
              "      <th>Likes</th>\n",
              "    </tr>\n",
              "  </thead>\n",
              "  <tbody>\n",
              "    <tr>\n",
              "      <th>0</th>\n",
              "      <td>False</td>\n",
              "    </tr>\n",
              "    <tr>\n",
              "      <th>1</th>\n",
              "      <td>False</td>\n",
              "    </tr>\n",
              "    <tr>\n",
              "      <th>2</th>\n",
              "      <td>False</td>\n",
              "    </tr>\n",
              "    <tr>\n",
              "      <th>3</th>\n",
              "      <td>False</td>\n",
              "    </tr>\n",
              "    <tr>\n",
              "      <th>4</th>\n",
              "      <td>False</td>\n",
              "    </tr>\n",
              "    <tr>\n",
              "      <th>5</th>\n",
              "      <td>False</td>\n",
              "    </tr>\n",
              "    <tr>\n",
              "      <th>6</th>\n",
              "      <td>False</td>\n",
              "    </tr>\n",
              "    <tr>\n",
              "      <th>7</th>\n",
              "      <td>False</td>\n",
              "    </tr>\n",
              "    <tr>\n",
              "      <th>8</th>\n",
              "      <td>False</td>\n",
              "    </tr>\n",
              "    <tr>\n",
              "      <th>9</th>\n",
              "      <td>False</td>\n",
              "    </tr>\n",
              "    <tr>\n",
              "      <th>10</th>\n",
              "      <td>False</td>\n",
              "    </tr>\n",
              "    <tr>\n",
              "      <th>11</th>\n",
              "      <td>False</td>\n",
              "    </tr>\n",
              "    <tr>\n",
              "      <th>12</th>\n",
              "      <td>False</td>\n",
              "    </tr>\n",
              "    <tr>\n",
              "      <th>13</th>\n",
              "      <td>False</td>\n",
              "    </tr>\n",
              "    <tr>\n",
              "      <th>14</th>\n",
              "      <td>False</td>\n",
              "    </tr>\n",
              "    <tr>\n",
              "      <th>15</th>\n",
              "      <td>False</td>\n",
              "    </tr>\n",
              "  </tbody>\n",
              "</table>\n",
              "</div><br><label><b>dtype:</b> bool</label>"
            ]
          },
          "metadata": {},
          "execution_count": 44
        }
      ]
    },
    {
      "cell_type": "code",
      "source": [
        "df['Retweets']=df['Retweets'].fillna(0)"
      ],
      "metadata": {
        "id": "Cy30ayOfVK67"
      },
      "execution_count": 10,
      "outputs": []
    },
    {
      "cell_type": "code",
      "source": [
        "df['Idioma']=df['Idioma'].str.capitalize()"
      ],
      "metadata": {
        "id": "rR4L8JmLVdbU"
      },
      "execution_count": 11,
      "outputs": []
    },
    {
      "cell_type": "code",
      "source": [
        "df['Idioma']=df['Idioma'].str.strip()"
      ],
      "metadata": {
        "id": "9tGx8NF3Vsfs"
      },
      "execution_count": 12,
      "outputs": []
    },
    {
      "cell_type": "code",
      "source": [
        "df['Idioma']=df['Idioma'].replace('Ingles','En')\n",
        "df['Idioma']=df['Idioma'].replace('Español','Es')\n",
        "df['Idioma']=df['Idioma'].fillna('Idioma Desconocido')\n",
        "df['Idioma']=df['Idioma'].replace('Inglés','En')\n",
        "df['Idioma']=df['Idioma'].replace('Espanol','Es')"
      ],
      "metadata": {
        "id": "Lcuu9pHSV0T1"
      },
      "execution_count": 13,
      "outputs": []
    },
    {
      "cell_type": "code",
      "source": [
        "df['Idioma'].unique()"
      ],
      "metadata": {
        "colab": {
          "base_uri": "https://localhost:8080/"
        },
        "id": "qfxzG6CzWjOq",
        "outputId": "89df2817-ecce-4c24-ddb4-e324162d4192"
      },
      "execution_count": 54,
      "outputs": [
        {
          "output_type": "execute_result",
          "data": {
            "text/plain": [
              "array(['Es', 'En'], dtype=object)"
            ]
          },
          "metadata": {},
          "execution_count": 54
        }
      ]
    },
    {
      "cell_type": "code",
      "source": [
        "df['Fuente']=df['Fuente'].str.capitalize()\n",
        "df['Fuente']=df['Fuente'].str.strip()\n",
        "df['Fuente']=df['Fuente'].replace('Instagram','Instagram')\n",
        "df['Fuente']=df['Fuente'].fillna('Fuente Desconocida')\n",
        "df['Fuente']=df['Fuente'].replace('Mobile','Movil')\n",
        "df['Fuente'].unique()"
      ],
      "metadata": {
        "colab": {
          "base_uri": "https://localhost:8080/"
        },
        "id": "iViSzY4iXU-j",
        "outputId": "48a43d6f-103b-4f8d-c939-9f2fd238acfd"
      },
      "execution_count": 14,
      "outputs": [
        {
          "output_type": "execute_result",
          "data": {
            "text/plain": [
              "array(['Android', 'Web', 'Iphone', 'Fuente Desconocida', 'Movil'],\n",
              "      dtype=object)"
            ]
          },
          "metadata": {},
          "execution_count": 14
        }
      ]
    },
    {
      "cell_type": "code",
      "source": [
        "df"
      ],
      "metadata": {
        "colab": {
          "base_uri": "https://localhost:8080/",
          "height": 1000
        },
        "id": "qewaw_XeZToY",
        "outputId": "1a9aafe7-0506-453b-a4f9-2d775f8fe9c6"
      },
      "execution_count": 15,
      "outputs": [
        {
          "output_type": "execute_result",
          "data": {
            "text/plain": [
              "                Usuario   Fecha Publicación  \\\n",
              "0             usuario_1 2024-03-15 10:30:00   \n",
              "1                 user2 2024-03-15 11:15:22   \n",
              "2          otro_usuario 2024-03-16 14:00:10   \n",
              "3                user_4 2024-03-16 18:45:59   \n",
              "4              usuario5 2024-03-17 09:20:30   \n",
              "5              theuser6 2024-03-17 12:55:45   \n",
              "6                user77 2024-03-18 16:10:05   \n",
              "7             usuario_8 2024-03-18 20:35:18   \n",
              "8                 user9 2024-03-19 08:00:00   \n",
              "9             usuario10 2024-03-19 13:20:55   \n",
              "10  usuario_desconocido 2024-03-20 17:40:02   \n",
              "11               user12 2024-03-20 21:05:30   \n",
              "12           usuario_13 2024-03-21 09:50:15   \n",
              "13        therealuser14 2024-03-21 14:30:48   \n",
              "14       otrousuariomas 2024-03-22 18:00:20   \n",
              "15              user_16 2024-03-22 22:25:00   \n",
              "\n",
              "                                   Texto  Likes  Retweets Idioma  \\\n",
              "0           ¡Hola a todos! #FelizViernes    120      30.0     Es   \n",
              "1                  Increíble día de sol!     25       2.0     Es   \n",
              "2                 Coffee time ☕ #weekend     85      15.0     En   \n",
              "3   Disfrutando del sábado por la tarde.     45       8.0     Es   \n",
              "4                    Good morning world!    180       0.0     En   \n",
              "5                    A pasear al perro 🐕     60      12.0     Es   \n",
              "6           Learning Python #datascience    210      45.0     En   \n",
              "7              Viendo mi serie favorita.     30       5.0     Es   \n",
              "8                          Happy Monday!     95      20.0     En   \n",
              "9                   Almuerzo delicioso 😋    155      35.0     Es   \n",
              "10             Fin de semana a la vista!     70      10.0     Es   \n",
              "11                   Coding late night 💻    110      28.0     En   \n",
              "12                Preparando el viaje...    190      40.0     Es   \n",
              "13                        Just woke up 😴     55       7.0     En   \n",
              "14                   Viernes otra vez! 🎉    130      32.0     Es   \n",
              "15          Enjoying the weekend vibes 😎     75       0.0     En   \n",
              "\n",
              "                Fuente         usuario  \n",
              "0              Android       usuario_1  \n",
              "1                  Web           user2  \n",
              "2               Iphone    otro_usuario  \n",
              "3   Fuente Desconocida          user 4  \n",
              "4              Android        usuario5  \n",
              "5   Fuente Desconocida        theuser6  \n",
              "6                  Web          user77  \n",
              "7                Movil       usuario_8  \n",
              "8   Fuente Desconocida           user9  \n",
              "9              Android       usuario10  \n",
              "10                 Web             NaN  \n",
              "11  Fuente Desconocida          user12  \n",
              "12              Iphone      usuario_13  \n",
              "13               Movil   therealuser14  \n",
              "14  Fuente Desconocida  otrousuariomas  \n",
              "15             Android         user_16  "
            ],
            "text/html": [
              "\n",
              "  <div id=\"df-6c0e2ad9-73ec-4879-af12-91f3a3774c50\" class=\"colab-df-container\">\n",
              "    <div>\n",
              "<style scoped>\n",
              "    .dataframe tbody tr th:only-of-type {\n",
              "        vertical-align: middle;\n",
              "    }\n",
              "\n",
              "    .dataframe tbody tr th {\n",
              "        vertical-align: top;\n",
              "    }\n",
              "\n",
              "    .dataframe thead th {\n",
              "        text-align: right;\n",
              "    }\n",
              "</style>\n",
              "<table border=\"1\" class=\"dataframe\">\n",
              "  <thead>\n",
              "    <tr style=\"text-align: right;\">\n",
              "      <th></th>\n",
              "      <th>Usuario</th>\n",
              "      <th>Fecha Publicación</th>\n",
              "      <th>Texto</th>\n",
              "      <th>Likes</th>\n",
              "      <th>Retweets</th>\n",
              "      <th>Idioma</th>\n",
              "      <th>Fuente</th>\n",
              "      <th>usuario</th>\n",
              "    </tr>\n",
              "  </thead>\n",
              "  <tbody>\n",
              "    <tr>\n",
              "      <th>0</th>\n",
              "      <td>usuario_1</td>\n",
              "      <td>2024-03-15 10:30:00</td>\n",
              "      <td>¡Hola a todos! #FelizViernes</td>\n",
              "      <td>120</td>\n",
              "      <td>30.0</td>\n",
              "      <td>Es</td>\n",
              "      <td>Android</td>\n",
              "      <td>usuario_1</td>\n",
              "    </tr>\n",
              "    <tr>\n",
              "      <th>1</th>\n",
              "      <td>user2</td>\n",
              "      <td>2024-03-15 11:15:22</td>\n",
              "      <td>Increíble día de sol!</td>\n",
              "      <td>25</td>\n",
              "      <td>2.0</td>\n",
              "      <td>Es</td>\n",
              "      <td>Web</td>\n",
              "      <td>user2</td>\n",
              "    </tr>\n",
              "    <tr>\n",
              "      <th>2</th>\n",
              "      <td>otro_usuario</td>\n",
              "      <td>2024-03-16 14:00:10</td>\n",
              "      <td>Coffee time ☕ #weekend</td>\n",
              "      <td>85</td>\n",
              "      <td>15.0</td>\n",
              "      <td>En</td>\n",
              "      <td>Iphone</td>\n",
              "      <td>otro_usuario</td>\n",
              "    </tr>\n",
              "    <tr>\n",
              "      <th>3</th>\n",
              "      <td>user_4</td>\n",
              "      <td>2024-03-16 18:45:59</td>\n",
              "      <td>Disfrutando del sábado por la tarde.</td>\n",
              "      <td>45</td>\n",
              "      <td>8.0</td>\n",
              "      <td>Es</td>\n",
              "      <td>Fuente Desconocida</td>\n",
              "      <td>user 4</td>\n",
              "    </tr>\n",
              "    <tr>\n",
              "      <th>4</th>\n",
              "      <td>usuario5</td>\n",
              "      <td>2024-03-17 09:20:30</td>\n",
              "      <td>Good morning world!</td>\n",
              "      <td>180</td>\n",
              "      <td>0.0</td>\n",
              "      <td>En</td>\n",
              "      <td>Android</td>\n",
              "      <td>usuario5</td>\n",
              "    </tr>\n",
              "    <tr>\n",
              "      <th>5</th>\n",
              "      <td>theuser6</td>\n",
              "      <td>2024-03-17 12:55:45</td>\n",
              "      <td>A pasear al perro 🐕</td>\n",
              "      <td>60</td>\n",
              "      <td>12.0</td>\n",
              "      <td>Es</td>\n",
              "      <td>Fuente Desconocida</td>\n",
              "      <td>theuser6</td>\n",
              "    </tr>\n",
              "    <tr>\n",
              "      <th>6</th>\n",
              "      <td>user77</td>\n",
              "      <td>2024-03-18 16:10:05</td>\n",
              "      <td>Learning Python #datascience</td>\n",
              "      <td>210</td>\n",
              "      <td>45.0</td>\n",
              "      <td>En</td>\n",
              "      <td>Web</td>\n",
              "      <td>user77</td>\n",
              "    </tr>\n",
              "    <tr>\n",
              "      <th>7</th>\n",
              "      <td>usuario_8</td>\n",
              "      <td>2024-03-18 20:35:18</td>\n",
              "      <td>Viendo mi serie favorita.</td>\n",
              "      <td>30</td>\n",
              "      <td>5.0</td>\n",
              "      <td>Es</td>\n",
              "      <td>Movil</td>\n",
              "      <td>usuario_8</td>\n",
              "    </tr>\n",
              "    <tr>\n",
              "      <th>8</th>\n",
              "      <td>user9</td>\n",
              "      <td>2024-03-19 08:00:00</td>\n",
              "      <td>Happy Monday!</td>\n",
              "      <td>95</td>\n",
              "      <td>20.0</td>\n",
              "      <td>En</td>\n",
              "      <td>Fuente Desconocida</td>\n",
              "      <td>user9</td>\n",
              "    </tr>\n",
              "    <tr>\n",
              "      <th>9</th>\n",
              "      <td>usuario10</td>\n",
              "      <td>2024-03-19 13:20:55</td>\n",
              "      <td>Almuerzo delicioso 😋</td>\n",
              "      <td>155</td>\n",
              "      <td>35.0</td>\n",
              "      <td>Es</td>\n",
              "      <td>Android</td>\n",
              "      <td>usuario10</td>\n",
              "    </tr>\n",
              "    <tr>\n",
              "      <th>10</th>\n",
              "      <td>usuario_desconocido</td>\n",
              "      <td>2024-03-20 17:40:02</td>\n",
              "      <td>Fin de semana a la vista!</td>\n",
              "      <td>70</td>\n",
              "      <td>10.0</td>\n",
              "      <td>Es</td>\n",
              "      <td>Web</td>\n",
              "      <td>NaN</td>\n",
              "    </tr>\n",
              "    <tr>\n",
              "      <th>11</th>\n",
              "      <td>user12</td>\n",
              "      <td>2024-03-20 21:05:30</td>\n",
              "      <td>Coding late night 💻</td>\n",
              "      <td>110</td>\n",
              "      <td>28.0</td>\n",
              "      <td>En</td>\n",
              "      <td>Fuente Desconocida</td>\n",
              "      <td>user12</td>\n",
              "    </tr>\n",
              "    <tr>\n",
              "      <th>12</th>\n",
              "      <td>usuario_13</td>\n",
              "      <td>2024-03-21 09:50:15</td>\n",
              "      <td>Preparando el viaje...</td>\n",
              "      <td>190</td>\n",
              "      <td>40.0</td>\n",
              "      <td>Es</td>\n",
              "      <td>Iphone</td>\n",
              "      <td>usuario_13</td>\n",
              "    </tr>\n",
              "    <tr>\n",
              "      <th>13</th>\n",
              "      <td>therealuser14</td>\n",
              "      <td>2024-03-21 14:30:48</td>\n",
              "      <td>Just woke up 😴</td>\n",
              "      <td>55</td>\n",
              "      <td>7.0</td>\n",
              "      <td>En</td>\n",
              "      <td>Movil</td>\n",
              "      <td>therealuser14</td>\n",
              "    </tr>\n",
              "    <tr>\n",
              "      <th>14</th>\n",
              "      <td>otrousuariomas</td>\n",
              "      <td>2024-03-22 18:00:20</td>\n",
              "      <td>Viernes otra vez! 🎉</td>\n",
              "      <td>130</td>\n",
              "      <td>32.0</td>\n",
              "      <td>Es</td>\n",
              "      <td>Fuente Desconocida</td>\n",
              "      <td>otrousuariomas</td>\n",
              "    </tr>\n",
              "    <tr>\n",
              "      <th>15</th>\n",
              "      <td>user_16</td>\n",
              "      <td>2024-03-22 22:25:00</td>\n",
              "      <td>Enjoying the weekend vibes 😎</td>\n",
              "      <td>75</td>\n",
              "      <td>0.0</td>\n",
              "      <td>En</td>\n",
              "      <td>Android</td>\n",
              "      <td>user_16</td>\n",
              "    </tr>\n",
              "  </tbody>\n",
              "</table>\n",
              "</div>\n",
              "    <div class=\"colab-df-buttons\">\n",
              "\n",
              "  <div class=\"colab-df-container\">\n",
              "    <button class=\"colab-df-convert\" onclick=\"convertToInteractive('df-6c0e2ad9-73ec-4879-af12-91f3a3774c50')\"\n",
              "            title=\"Convert this dataframe to an interactive table.\"\n",
              "            style=\"display:none;\">\n",
              "\n",
              "  <svg xmlns=\"http://www.w3.org/2000/svg\" height=\"24px\" viewBox=\"0 -960 960 960\">\n",
              "    <path d=\"M120-120v-720h720v720H120Zm60-500h600v-160H180v160Zm220 220h160v-160H400v160Zm0 220h160v-160H400v160ZM180-400h160v-160H180v160Zm440 0h160v-160H620v160ZM180-180h160v-160H180v160Zm440 0h160v-160H620v160Z\"/>\n",
              "  </svg>\n",
              "    </button>\n",
              "\n",
              "  <style>\n",
              "    .colab-df-container {\n",
              "      display:flex;\n",
              "      gap: 12px;\n",
              "    }\n",
              "\n",
              "    .colab-df-convert {\n",
              "      background-color: #E8F0FE;\n",
              "      border: none;\n",
              "      border-radius: 50%;\n",
              "      cursor: pointer;\n",
              "      display: none;\n",
              "      fill: #1967D2;\n",
              "      height: 32px;\n",
              "      padding: 0 0 0 0;\n",
              "      width: 32px;\n",
              "    }\n",
              "\n",
              "    .colab-df-convert:hover {\n",
              "      background-color: #E2EBFA;\n",
              "      box-shadow: 0px 1px 2px rgba(60, 64, 67, 0.3), 0px 1px 3px 1px rgba(60, 64, 67, 0.15);\n",
              "      fill: #174EA6;\n",
              "    }\n",
              "\n",
              "    .colab-df-buttons div {\n",
              "      margin-bottom: 4px;\n",
              "    }\n",
              "\n",
              "    [theme=dark] .colab-df-convert {\n",
              "      background-color: #3B4455;\n",
              "      fill: #D2E3FC;\n",
              "    }\n",
              "\n",
              "    [theme=dark] .colab-df-convert:hover {\n",
              "      background-color: #434B5C;\n",
              "      box-shadow: 0px 1px 3px 1px rgba(0, 0, 0, 0.15);\n",
              "      filter: drop-shadow(0px 1px 2px rgba(0, 0, 0, 0.3));\n",
              "      fill: #FFFFFF;\n",
              "    }\n",
              "  </style>\n",
              "\n",
              "    <script>\n",
              "      const buttonEl =\n",
              "        document.querySelector('#df-6c0e2ad9-73ec-4879-af12-91f3a3774c50 button.colab-df-convert');\n",
              "      buttonEl.style.display =\n",
              "        google.colab.kernel.accessAllowed ? 'block' : 'none';\n",
              "\n",
              "      async function convertToInteractive(key) {\n",
              "        const element = document.querySelector('#df-6c0e2ad9-73ec-4879-af12-91f3a3774c50');\n",
              "        const dataTable =\n",
              "          await google.colab.kernel.invokeFunction('convertToInteractive',\n",
              "                                                    [key], {});\n",
              "        if (!dataTable) return;\n",
              "\n",
              "        const docLinkHtml = 'Like what you see? Visit the ' +\n",
              "          '<a target=\"_blank\" href=https://colab.research.google.com/notebooks/data_table.ipynb>data table notebook</a>'\n",
              "          + ' to learn more about interactive tables.';\n",
              "        element.innerHTML = '';\n",
              "        dataTable['output_type'] = 'display_data';\n",
              "        await google.colab.output.renderOutput(dataTable, element);\n",
              "        const docLink = document.createElement('div');\n",
              "        docLink.innerHTML = docLinkHtml;\n",
              "        element.appendChild(docLink);\n",
              "      }\n",
              "    </script>\n",
              "  </div>\n",
              "\n",
              "\n",
              "<div id=\"df-89148991-3b5e-46c8-8f0f-292044775483\">\n",
              "  <button class=\"colab-df-quickchart\" onclick=\"quickchart('df-89148991-3b5e-46c8-8f0f-292044775483')\"\n",
              "            title=\"Suggest charts\"\n",
              "            style=\"display:none;\">\n",
              "\n",
              "<svg xmlns=\"http://www.w3.org/2000/svg\" height=\"24px\"viewBox=\"0 0 24 24\"\n",
              "     width=\"24px\">\n",
              "    <g>\n",
              "        <path d=\"M19 3H5c-1.1 0-2 .9-2 2v14c0 1.1.9 2 2 2h14c1.1 0 2-.9 2-2V5c0-1.1-.9-2-2-2zM9 17H7v-7h2v7zm4 0h-2V7h2v10zm4 0h-2v-4h2v4z\"/>\n",
              "    </g>\n",
              "</svg>\n",
              "  </button>\n",
              "\n",
              "<style>\n",
              "  .colab-df-quickchart {\n",
              "      --bg-color: #E8F0FE;\n",
              "      --fill-color: #1967D2;\n",
              "      --hover-bg-color: #E2EBFA;\n",
              "      --hover-fill-color: #174EA6;\n",
              "      --disabled-fill-color: #AAA;\n",
              "      --disabled-bg-color: #DDD;\n",
              "  }\n",
              "\n",
              "  [theme=dark] .colab-df-quickchart {\n",
              "      --bg-color: #3B4455;\n",
              "      --fill-color: #D2E3FC;\n",
              "      --hover-bg-color: #434B5C;\n",
              "      --hover-fill-color: #FFFFFF;\n",
              "      --disabled-bg-color: #3B4455;\n",
              "      --disabled-fill-color: #666;\n",
              "  }\n",
              "\n",
              "  .colab-df-quickchart {\n",
              "    background-color: var(--bg-color);\n",
              "    border: none;\n",
              "    border-radius: 50%;\n",
              "    cursor: pointer;\n",
              "    display: none;\n",
              "    fill: var(--fill-color);\n",
              "    height: 32px;\n",
              "    padding: 0;\n",
              "    width: 32px;\n",
              "  }\n",
              "\n",
              "  .colab-df-quickchart:hover {\n",
              "    background-color: var(--hover-bg-color);\n",
              "    box-shadow: 0 1px 2px rgba(60, 64, 67, 0.3), 0 1px 3px 1px rgba(60, 64, 67, 0.15);\n",
              "    fill: var(--button-hover-fill-color);\n",
              "  }\n",
              "\n",
              "  .colab-df-quickchart-complete:disabled,\n",
              "  .colab-df-quickchart-complete:disabled:hover {\n",
              "    background-color: var(--disabled-bg-color);\n",
              "    fill: var(--disabled-fill-color);\n",
              "    box-shadow: none;\n",
              "  }\n",
              "\n",
              "  .colab-df-spinner {\n",
              "    border: 2px solid var(--fill-color);\n",
              "    border-color: transparent;\n",
              "    border-bottom-color: var(--fill-color);\n",
              "    animation:\n",
              "      spin 1s steps(1) infinite;\n",
              "  }\n",
              "\n",
              "  @keyframes spin {\n",
              "    0% {\n",
              "      border-color: transparent;\n",
              "      border-bottom-color: var(--fill-color);\n",
              "      border-left-color: var(--fill-color);\n",
              "    }\n",
              "    20% {\n",
              "      border-color: transparent;\n",
              "      border-left-color: var(--fill-color);\n",
              "      border-top-color: var(--fill-color);\n",
              "    }\n",
              "    30% {\n",
              "      border-color: transparent;\n",
              "      border-left-color: var(--fill-color);\n",
              "      border-top-color: var(--fill-color);\n",
              "      border-right-color: var(--fill-color);\n",
              "    }\n",
              "    40% {\n",
              "      border-color: transparent;\n",
              "      border-right-color: var(--fill-color);\n",
              "      border-top-color: var(--fill-color);\n",
              "    }\n",
              "    60% {\n",
              "      border-color: transparent;\n",
              "      border-right-color: var(--fill-color);\n",
              "    }\n",
              "    80% {\n",
              "      border-color: transparent;\n",
              "      border-right-color: var(--fill-color);\n",
              "      border-bottom-color: var(--fill-color);\n",
              "    }\n",
              "    90% {\n",
              "      border-color: transparent;\n",
              "      border-bottom-color: var(--fill-color);\n",
              "    }\n",
              "  }\n",
              "</style>\n",
              "\n",
              "  <script>\n",
              "    async function quickchart(key) {\n",
              "      const quickchartButtonEl =\n",
              "        document.querySelector('#' + key + ' button');\n",
              "      quickchartButtonEl.disabled = true;  // To prevent multiple clicks.\n",
              "      quickchartButtonEl.classList.add('colab-df-spinner');\n",
              "      try {\n",
              "        const charts = await google.colab.kernel.invokeFunction(\n",
              "            'suggestCharts', [key], {});\n",
              "      } catch (error) {\n",
              "        console.error('Error during call to suggestCharts:', error);\n",
              "      }\n",
              "      quickchartButtonEl.classList.remove('colab-df-spinner');\n",
              "      quickchartButtonEl.classList.add('colab-df-quickchart-complete');\n",
              "    }\n",
              "    (() => {\n",
              "      let quickchartButtonEl =\n",
              "        document.querySelector('#df-89148991-3b5e-46c8-8f0f-292044775483 button');\n",
              "      quickchartButtonEl.style.display =\n",
              "        google.colab.kernel.accessAllowed ? 'block' : 'none';\n",
              "    })();\n",
              "  </script>\n",
              "</div>\n",
              "\n",
              "  <div id=\"id_6512c660-7321-4bbd-b432-659a46821209\">\n",
              "    <style>\n",
              "      .colab-df-generate {\n",
              "        background-color: #E8F0FE;\n",
              "        border: none;\n",
              "        border-radius: 50%;\n",
              "        cursor: pointer;\n",
              "        display: none;\n",
              "        fill: #1967D2;\n",
              "        height: 32px;\n",
              "        padding: 0 0 0 0;\n",
              "        width: 32px;\n",
              "      }\n",
              "\n",
              "      .colab-df-generate:hover {\n",
              "        background-color: #E2EBFA;\n",
              "        box-shadow: 0px 1px 2px rgba(60, 64, 67, 0.3), 0px 1px 3px 1px rgba(60, 64, 67, 0.15);\n",
              "        fill: #174EA6;\n",
              "      }\n",
              "\n",
              "      [theme=dark] .colab-df-generate {\n",
              "        background-color: #3B4455;\n",
              "        fill: #D2E3FC;\n",
              "      }\n",
              "\n",
              "      [theme=dark] .colab-df-generate:hover {\n",
              "        background-color: #434B5C;\n",
              "        box-shadow: 0px 1px 3px 1px rgba(0, 0, 0, 0.15);\n",
              "        filter: drop-shadow(0px 1px 2px rgba(0, 0, 0, 0.3));\n",
              "        fill: #FFFFFF;\n",
              "      }\n",
              "    </style>\n",
              "    <button class=\"colab-df-generate\" onclick=\"generateWithVariable('df')\"\n",
              "            title=\"Generate code using this dataframe.\"\n",
              "            style=\"display:none;\">\n",
              "\n",
              "  <svg xmlns=\"http://www.w3.org/2000/svg\" height=\"24px\"viewBox=\"0 0 24 24\"\n",
              "       width=\"24px\">\n",
              "    <path d=\"M7,19H8.4L18.45,9,17,7.55,7,17.6ZM5,21V16.75L18.45,3.32a2,2,0,0,1,2.83,0l1.4,1.43a1.91,1.91,0,0,1,.58,1.4,1.91,1.91,0,0,1-.58,1.4L9.25,21ZM18.45,9,17,7.55Zm-12,3A5.31,5.31,0,0,0,4.9,8.1,5.31,5.31,0,0,0,1,6.5,5.31,5.31,0,0,0,4.9,4.9,5.31,5.31,0,0,0,6.5,1,5.31,5.31,0,0,0,8.1,4.9,5.31,5.31,0,0,0,12,6.5,5.46,5.46,0,0,0,6.5,12Z\"/>\n",
              "  </svg>\n",
              "    </button>\n",
              "    <script>\n",
              "      (() => {\n",
              "      const buttonEl =\n",
              "        document.querySelector('#id_6512c660-7321-4bbd-b432-659a46821209 button.colab-df-generate');\n",
              "      buttonEl.style.display =\n",
              "        google.colab.kernel.accessAllowed ? 'block' : 'none';\n",
              "\n",
              "      buttonEl.onclick = () => {\n",
              "        google.colab.notebook.generateWithVariable('df');\n",
              "      }\n",
              "      })();\n",
              "    </script>\n",
              "  </div>\n",
              "\n",
              "    </div>\n",
              "  </div>\n"
            ],
            "application/vnd.google.colaboratory.intrinsic+json": {
              "type": "dataframe",
              "variable_name": "df",
              "summary": "{\n  \"name\": \"df\",\n  \"rows\": 16,\n  \"fields\": [\n    {\n      \"column\": \"Usuario\",\n      \"properties\": {\n        \"dtype\": \"string\",\n        \"num_unique_values\": 16,\n        \"samples\": [\n          \"usuario_1\",\n          \"user2\",\n          \"theuser6\"\n        ],\n        \"semantic_type\": \"\",\n        \"description\": \"\"\n      }\n    },\n    {\n      \"column\": \"Fecha Publicaci\\u00f3n\",\n      \"properties\": {\n        \"dtype\": \"date\",\n        \"min\": \"2024-03-15 10:30:00\",\n        \"max\": \"2024-03-22 22:25:00\",\n        \"num_unique_values\": 16,\n        \"samples\": [\n          \"2024-03-15 10:30:00\",\n          \"2024-03-15 11:15:22\",\n          \"2024-03-17 12:55:45\"\n        ],\n        \"semantic_type\": \"\",\n        \"description\": \"\"\n      }\n    },\n    {\n      \"column\": \"Texto\",\n      \"properties\": {\n        \"dtype\": \"string\",\n        \"num_unique_values\": 16,\n        \"samples\": [\n          \"\\u00a1Hola a todos! #FelizViernes\",\n          \"Incre\\u00edble d\\u00eda de sol!\",\n          \"A pasear al perro \\ud83d\\udc15\"\n        ],\n        \"semantic_type\": \"\",\n        \"description\": \"\"\n      }\n    },\n    {\n      \"column\": \"Likes\",\n      \"properties\": {\n        \"dtype\": \"number\",\n        \"std\": 57,\n        \"min\": 25,\n        \"max\": 210,\n        \"num_unique_values\": 16,\n        \"samples\": [\n          120,\n          25,\n          60\n        ],\n        \"semantic_type\": \"\",\n        \"description\": \"\"\n      }\n    },\n    {\n      \"column\": \"Retweets\",\n      \"properties\": {\n        \"dtype\": \"number\",\n        \"std\": 14.941971088179764,\n        \"min\": 0.0,\n        \"max\": 45.0,\n        \"num_unique_values\": 15,\n        \"samples\": [\n          35.0,\n          28.0,\n          30.0\n        ],\n        \"semantic_type\": \"\",\n        \"description\": \"\"\n      }\n    },\n    {\n      \"column\": \"Idioma\",\n      \"properties\": {\n        \"dtype\": \"category\",\n        \"num_unique_values\": 2,\n        \"samples\": [\n          \"En\",\n          \"Es\"\n        ],\n        \"semantic_type\": \"\",\n        \"description\": \"\"\n      }\n    },\n    {\n      \"column\": \"Fuente\",\n      \"properties\": {\n        \"dtype\": \"category\",\n        \"num_unique_values\": 5,\n        \"samples\": [\n          \"Web\",\n          \"Movil\"\n        ],\n        \"semantic_type\": \"\",\n        \"description\": \"\"\n      }\n    },\n    {\n      \"column\": \"usuario\",\n      \"properties\": {\n        \"dtype\": \"string\",\n        \"num_unique_values\": 15,\n        \"samples\": [\n          \"usuario10\",\n          \"usuario_13\"\n        ],\n        \"semantic_type\": \"\",\n        \"description\": \"\"\n      }\n    }\n  ]\n}"
            }
          },
          "metadata": {},
          "execution_count": 15
        }
      ]
    },
    {
      "cell_type": "markdown",
      "source": [],
      "metadata": {
        "id": "IOfHqL7rgKX9"
      }
    },
    {
      "cell_type": "code",
      "source": [
        "df.groupby('Fuente')['usuario'].value_counts()"
      ],
      "metadata": {
        "colab": {
          "base_uri": "https://localhost:8080/",
          "height": 585
        },
        "id": "WMBU50n3eDyk",
        "outputId": "f80ff020-5367-412e-b0f7-0251cc1558a5"
      },
      "execution_count": 25,
      "outputs": [
        {
          "output_type": "execute_result",
          "data": {
            "text/plain": [
              "Fuente              usuario       \n",
              "Android             user_16           1\n",
              "                    usuario10         1\n",
              "                    usuario5          1\n",
              "                    usuario_1         1\n",
              "Fuente Desconocida  otrousuariomas    1\n",
              "                    theuser6          1\n",
              "                    user 4            1\n",
              "                    user12            1\n",
              "                    user9             1\n",
              "Iphone              otro_usuario      1\n",
              "                    usuario_13        1\n",
              "Movil               therealuser14     1\n",
              "                    usuario_8         1\n",
              "Web                 user2             1\n",
              "                    user77            1\n",
              "Name: count, dtype: int64"
            ],
            "text/html": [
              "<div>\n",
              "<style scoped>\n",
              "    .dataframe tbody tr th:only-of-type {\n",
              "        vertical-align: middle;\n",
              "    }\n",
              "\n",
              "    .dataframe tbody tr th {\n",
              "        vertical-align: top;\n",
              "    }\n",
              "\n",
              "    .dataframe thead th {\n",
              "        text-align: right;\n",
              "    }\n",
              "</style>\n",
              "<table border=\"1\" class=\"dataframe\">\n",
              "  <thead>\n",
              "    <tr style=\"text-align: right;\">\n",
              "      <th></th>\n",
              "      <th></th>\n",
              "      <th>count</th>\n",
              "    </tr>\n",
              "    <tr>\n",
              "      <th>Fuente</th>\n",
              "      <th>usuario</th>\n",
              "      <th></th>\n",
              "    </tr>\n",
              "  </thead>\n",
              "  <tbody>\n",
              "    <tr>\n",
              "      <th rowspan=\"4\" valign=\"top\">Android</th>\n",
              "      <th>user_16</th>\n",
              "      <td>1</td>\n",
              "    </tr>\n",
              "    <tr>\n",
              "      <th>usuario10</th>\n",
              "      <td>1</td>\n",
              "    </tr>\n",
              "    <tr>\n",
              "      <th>usuario5</th>\n",
              "      <td>1</td>\n",
              "    </tr>\n",
              "    <tr>\n",
              "      <th>usuario_1</th>\n",
              "      <td>1</td>\n",
              "    </tr>\n",
              "    <tr>\n",
              "      <th rowspan=\"5\" valign=\"top\">Fuente Desconocida</th>\n",
              "      <th>otrousuariomas</th>\n",
              "      <td>1</td>\n",
              "    </tr>\n",
              "    <tr>\n",
              "      <th>theuser6</th>\n",
              "      <td>1</td>\n",
              "    </tr>\n",
              "    <tr>\n",
              "      <th>user 4</th>\n",
              "      <td>1</td>\n",
              "    </tr>\n",
              "    <tr>\n",
              "      <th>user12</th>\n",
              "      <td>1</td>\n",
              "    </tr>\n",
              "    <tr>\n",
              "      <th>user9</th>\n",
              "      <td>1</td>\n",
              "    </tr>\n",
              "    <tr>\n",
              "      <th rowspan=\"2\" valign=\"top\">Iphone</th>\n",
              "      <th>otro_usuario</th>\n",
              "      <td>1</td>\n",
              "    </tr>\n",
              "    <tr>\n",
              "      <th>usuario_13</th>\n",
              "      <td>1</td>\n",
              "    </tr>\n",
              "    <tr>\n",
              "      <th rowspan=\"2\" valign=\"top\">Movil</th>\n",
              "      <th>therealuser14</th>\n",
              "      <td>1</td>\n",
              "    </tr>\n",
              "    <tr>\n",
              "      <th>usuario_8</th>\n",
              "      <td>1</td>\n",
              "    </tr>\n",
              "    <tr>\n",
              "      <th rowspan=\"2\" valign=\"top\">Web</th>\n",
              "      <th>user2</th>\n",
              "      <td>1</td>\n",
              "    </tr>\n",
              "    <tr>\n",
              "      <th>user77</th>\n",
              "      <td>1</td>\n",
              "    </tr>\n",
              "  </tbody>\n",
              "</table>\n",
              "</div><br><label><b>dtype:</b> int64</label>"
            ]
          },
          "metadata": {},
          "execution_count": 25
        }
      ]
    },
    {
      "cell_type": "code",
      "source": [
        "import seaborn as sns\n",
        "import matplotlib.pyplot as plt\n",
        "sns.countplot(x='Fuente',data=df,order=df['Fuente'].value_counts().index)\n",
        "plt.ylabel('Frecuencia')\n",
        "plt.title('Fuente de Publicación')\n",
        "plt.show()"
      ],
      "metadata": {
        "colab": {
          "base_uri": "https://localhost:8080/",
          "height": 472
        },
        "id": "bf9VvVRK-9wM",
        "outputId": "73d7a021-f22b-4b4c-8918-98c4f656d2e8"
      },
      "execution_count": 24,
      "outputs": [
        {
          "output_type": "display_data",
          "data": {
            "text/plain": [
              "<Figure size 640x480 with 1 Axes>"
            ],
            "image/png": "[encoded data removed]"
          },
          "metadata": {}
        }
      ]
    },
    {
      "cell_type": "markdown",
      "source": [
        "En este grafica se puede onservar cual es el medio mas usuado para ver las publiaciones\n"
      ],
      "metadata": {
        "id": "JiErKrxbgTYv"
      }
    },
    {
      "cell_type": "code",
      "source": [
        "df['Fecha Publicación'].dt.day_name().value_counts().plot(kind='bar')\n",
        "plt.xlabel('Día de la semana')\n",
        "plt.ylabel('Frecuencia')\n",
        "plt.title('Publicaciones por día de la semana')\n",
        "plt.show()"
      ],
      "metadata": {
        "colab": {
          "base_uri": "https://localhost:8080/",
          "height": 539
        },
        "id": "YV1-u2h6Ar6O",
        "outputId": "ac70b5b0-a7fd-4667-ed49-1b851712dd1e"
      },
      "execution_count": 34,
      "outputs": [
        {
          "output_type": "display_data",
          "data": {
            "text/plain": [
              "<Figure size 640x480 with 1 Axes>"
            ],
            "image/png": "[encoded data removed]"
          },
          "metadata": {}
        }
      ]
    },
    {
      "cell_type": "markdown",
      "source": [
        "Es posible ver que el dia viernes se ealiza un mayor numero de publicaciones"
      ],
      "metadata": {
        "id": "tKdX6PKJghCA"
      }
    },
    {
      "cell_type": "code",
      "source": [
        "sns.pairplot(data=df,hue='Fuente',palette='coolwarm')\n",
        "plt.show()\n",
        ""
      ],
      "metadata": {
        "colab": {
          "base_uri": "https://localhost:8080/",
          "height": 495
        },
        "id": "5GXikZo0CCb0",
        "outputId": "938b2203-4a36-4290-cd4c-518bfa53aaa3"
      },
      "execution_count": 42,
      "outputs": [
        {
          "output_type": "display_data",
          "data": {
            "text/plain": [
              "<Figure size 690.375x500 with 6 Axes>"
            ],
            "image/png": "[encoded data removed]"
          },
          "metadata": {}
        }
      ]
    },
    {
      "cell_type": "code",
      "source": [
        "sns.lineplot(x='Fecha Publicación',y='Likes',data=df,markers=True,seed=40)\n",
        "plt.title('Likes por Fecha de Publicación')\n",
        "plt.xlabel('Fecha de Publicación')\n",
        "plt.ylabel('Likes')\n",
        "plt.xticks(rotation=90)\n",
        "plt.show()"
      ],
      "metadata": {
        "colab": {
          "base_uri": "https://localhost:8080/",
          "height": 538
        },
        "id": "Y7XGPAUnIlre",
        "outputId": "d581d5d4-0cdb-4610-efeb-6619770f8d21"
      },
      "execution_count": 41,
      "outputs": [
        {
          "output_type": "display_data",
          "data": {
            "text/plain": [
              "<Figure size 640x480 with 1 Axes>"
            ],
            "image/png": "[encoded data removed]"
          },
          "metadata": {}
        }
      ]
    },
    {
      "cell_type": "markdown",
      "source": [
        "Es posible ver cuales fueron los dias donde mas likes obtuvieron las publicaciones"
      ],
      "metadata": {
        "id": "w0GOMPIyg3Ge"
      }
    },
    {
      "cell_type": "code",
      "source": [
        "sns.histplot(data=df, x='Likes', bins=20, kde=True)\n",
        "plt.title('Distribución de Likes')\n",
        "plt.xlabel('Likes')\n",
        "plt.ylabel('Frecuencia')\n",
        "plt.show()"
      ],
      "metadata": {
        "colab": {
          "base_uri": "https://localhost:8080/",
          "height": 472
        },
        "id": "SvUn71ZYaFTZ",
        "outputId": "e93e5351-13be-44ad-8c86-658bf9d3baf8"
      },
      "execution_count": 46,
      "outputs": [
        {
          "output_type": "display_data",
          "data": {
            "text/plain": [
              "<Figure size 640x480 with 1 Axes>"
            ],
            "image/png": "[encoded data removed]"
          },
          "metadata": {}
        }
      ]
    },
    {
      "cell_type": "code",
      "source": [
        "sns.histplot(data=df, x='Retweets', bins=20, kde=True)\n",
        "plt.title('Distribución de Retweets')\n",
        "plt.xlabel('Retweets')\n",
        "plt.ylabel('Frecuencia')\n",
        "plt.show()"
      ],
      "metadata": {
        "colab": {
          "base_uri": "https://localhost:8080/",
          "height": 472
        },
        "id": "k_Gv1kOfa7D3",
        "outputId": "ea9d7497-c761-4e4e-dfb5-499933f0cc24"
      },
      "execution_count": 47,
      "outputs": [
        {
          "output_type": "display_data",
          "data": {
            "text/plain": [
              "<Figure size 640x480 with 1 Axes>"
            ],
            "image/png": "[encoded data removed]"
          },
          "metadata": {}
        }
      ]
    },
    {
      "cell_type": "markdown",
      "source": [
        "# conclusiones\n",
        "Deacuerdo al analisis de los datos es posible no solo ver los patrones en cuanto a los graficas si no que debido a los dias de mayores likes se podria plantear la posibilidad de mayores publiaciones en estos dias para aumentar las visualizacione y likes. Cabe resaltar que teniendo datos en mayores lapsos de tiempo se puede detallar mas el analisis\n"
      ],
      "metadata": {
        "id": "2Np8yMiHhe98"
      }
    }
  ]
}